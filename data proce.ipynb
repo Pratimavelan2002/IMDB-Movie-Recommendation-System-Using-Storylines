{
 "cells": [
  {
   "cell_type": "code",
   "execution_count": null,
   "id": "0dda45bb",
   "metadata": {},
   "outputs": [
    {
     "name": "stderr",
     "output_type": "stream",
     "text": [
      "[nltk_data] Downloading package stopwords to\n",
      "[nltk_data]     C:\\Users\\prati\\AppData\\Roaming\\nltk_data...\n",
      "[nltk_data]   Package stopwords is already up-to-date!\n"
     ]
    },
    {
     "data": {
      "text/html": [
       "<div>\n",
       "<style scoped>\n",
       "    .dataframe tbody tr th:only-of-type {\n",
       "        vertical-align: middle;\n",
       "    }\n",
       "\n",
       "    .dataframe tbody tr th {\n",
       "        vertical-align: top;\n",
       "    }\n",
       "\n",
       "    .dataframe thead th {\n",
       "        text-align: right;\n",
       "    }\n",
       "</style>\n",
       "<table border=\"1\" class=\"dataframe\">\n",
       "  <thead>\n",
       "    <tr style=\"text-align: right;\">\n",
       "      <th></th>\n",
       "      <th>Movie Name</th>\n",
       "      <th>Storyline</th>\n",
       "      <th>Cleaned_Storyline</th>\n",
       "    </tr>\n",
       "  </thead>\n",
       "  <tbody>\n",
       "    <tr>\n",
       "      <th>0</th>\n",
       "      <td>Eden</td>\n",
       "      <td>Based on a factual account of a group of outsi...</td>\n",
       "      <td>based factual account group outsiders settle r...</td>\n",
       "    </tr>\n",
       "    <tr>\n",
       "      <th>1</th>\n",
       "      <td>The Life of Chuck</td>\n",
       "      <td>A life-affirming, genre-bending story about th...</td>\n",
       "      <td>lifeaffirming genrebending story three chapter...</td>\n",
       "    </tr>\n",
       "    <tr>\n",
       "      <th>2</th>\n",
       "      <td>Mahavatar Narsimha</td>\n",
       "      <td>The demon Hiranyakashyap seeks revenge on Vish...</td>\n",
       "      <td>demon hiranyakashyap seeks revenge vishnu decl...</td>\n",
       "    </tr>\n",
       "    <tr>\n",
       "      <th>3</th>\n",
       "      <td>Relay</td>\n",
       "      <td>A broker of lucrative payoffs between corrupt ...</td>\n",
       "      <td>broker lucrative payoffs corrupt corporations ...</td>\n",
       "    </tr>\n",
       "    <tr>\n",
       "      <th>4</th>\n",
       "      <td>The Substance</td>\n",
       "      <td>A fading celebrity takes a black-market drug: ...</td>\n",
       "      <td>fading celebrity takes blackmarket drug cellre...</td>\n",
       "    </tr>\n",
       "  </tbody>\n",
       "</table>\n",
       "</div>"
      ],
      "text/plain": [
       "           Movie Name                                          Storyline  \\\n",
       "0                Eden  Based on a factual account of a group of outsi...   \n",
       "1   The Life of Chuck  A life-affirming, genre-bending story about th...   \n",
       "2  Mahavatar Narsimha  The demon Hiranyakashyap seeks revenge on Vish...   \n",
       "3               Relay  A broker of lucrative payoffs between corrupt ...   \n",
       "4       The Substance  A fading celebrity takes a black-market drug: ...   \n",
       "\n",
       "                                   Cleaned_Storyline  \n",
       "0  based factual account group outsiders settle r...  \n",
       "1  lifeaffirming genrebending story three chapter...  \n",
       "2  demon hiranyakashyap seeks revenge vishnu decl...  \n",
       "3  broker lucrative payoffs corrupt corporations ...  \n",
       "4  fading celebrity takes blackmarket drug cellre...  "
      ]
     },
     "execution_count": 15,
     "metadata": {},
     "output_type": "execute_result"
    }
   ],
   "source": [
    "#Text Cleaning\n",
    "import pandas as pd\n",
    "import re\n",
    "import nltk\n",
    "from nltk.corpus import stopwords\n",
    "\n",
    "df = pd.read_csv(r\"C:\\Users\\prati\\OneDrive\\Desktop\\guvi\\project 5\\imdb_movies_2024.csv\")\n",
    "\n",
    "# stopwords\n",
    "nltk.download(\"stopwords\")\n",
    "stop_words = set(stopwords.words(\"english\"))\n",
    "\n",
    "# Text cleaning function\n",
    "def clean_text(text):\n",
    "    if not isinstance(text, str):\n",
    "        return \"\"\n",
    "    text = text.lower()                              \n",
    "    text = re.sub(r\"[^a-zA-Z\\s]\", \"\", text)          \n",
    "    tokens = [w for w in text.split() if w not in stop_words] \n",
    "    return \" \".join(tokens)\n",
    "\n",
    "# Apply cleaning on Storyline column\n",
    "df[\"Cleaned_Storyline\"] = df[\"Storyline\"].apply(clean_text)\n",
    "\n",
    "df.head()\n"
   ]
  },
  {
   "cell_type": "code",
   "execution_count": 17,
   "id": "07cedc45",
   "metadata": {},
   "outputs": [
    {
     "name": "stdout",
     "output_type": "stream",
     "text": [
      "Count Vectorizer Matrix Shape: (50, 691)\n"
     ]
    }
   ],
   "source": [
    "#Text Representation\n",
    "from sklearn.feature_extraction.text import TfidfVectorizer, CountVectorizer\n",
    "\n",
    "from sklearn.feature_extraction.text import TfidfVectorizer\n",
    "\n",
    "vectorizer = TfidfVectorizer()\n",
    "tfidf_matrix = vectorizer.fit_transform(df[\"Cleaned_Storyline\"])\n",
    "\n",
    "\n",
    "print(\"Count Vectorizer Matrix Shape:\", count_matrix.shape)\n"
   ]
  },
  {
   "cell_type": "code",
   "execution_count": 21,
   "id": "9adae401",
   "metadata": {},
   "outputs": [
    {
     "name": "stdout",
     "output_type": "stream",
     "text": [
      "🎬 Recommended Movies:\n",
      "                               Movie Name  \\\n",
      "19  The Ministry of Ungentlemanly Warfare   \n",
      "27                Furiosa: A Mad Max Saga   \n",
      "21                   Deadpool & Wolverine   \n",
      "28                                 Sketch   \n",
      "39                          Speak No Evil   \n",
      "\n",
      "                                            Storyline  \n",
      "19  The British military recruits a small group of...  \n",
      "27  After being snatched from the Green Place of M...  \n",
      "21  Deadpool is offered a place in the Marvel Cine...  \n",
      "28  When a young girl's sketchbook falls into a st...  \n",
      "39  A family is invited to spend a whole weekend i...  \n"
     ]
    }
   ],
   "source": [
    "# Cosine Similarity for Movie Recommendation\n",
    "\n",
    "import pandas as pd\n",
    "from sklearn.feature_extraction.text import TfidfVectorizer\n",
    "from sklearn.metrics.pairwise import cosine_similarity\n",
    "import re\n",
    "import nltk\n",
    "from nltk.corpus import stopwords\n",
    "\n",
    "df = pd.read_csv(r\"C:\\Users\\prati\\OneDrive\\Desktop\\guvi\\project 5\\imdb_movies_2024.csv\")   \n",
    "# Text Cleaning Function\n",
    "def clean_text(text):\n",
    "    if not isinstance(text, str):\n",
    "        return \"\"\n",
    "    text = text.lower()\n",
    "    text = re.sub(r\"[^a-zA-Z\\s]\", \"\", text)  \n",
    "    tokens = [w for w in text.split() if w not in stop_words]\n",
    "    return \" \".join(tokens)\n",
    "\n",
    "# Clean storylines\n",
    "df[\"Cleaned_Storyline\"] = df[\"Storyline\"].apply(clean_text)\n",
    "\n",
    "# TF-IDF Vectorization \n",
    "vectorizer = TfidfVectorizer()\n",
    "tfidf_matrix = vectorizer.fit_transform(df[\"Cleaned_Storyline\"])\n",
    "\n",
    "# Cosine Similarity Matrix\n",
    "cosine_sim = cosine_similarity(tfidf_matrix, tfidf_matrix)\n",
    "\n",
    "# Recommendation Function \n",
    "def recommend_movies(storyline, top_n=5):\n",
    "    query_vec = vectorizer.transform([clean_text(storyline)])\n",
    "    sim_scores = cosine_similarity(query_vec, tfidf_matrix).flatten()\n",
    "    top_indices = sim_scores.argsort()[-top_n:][::-1]\n",
    "    return df.iloc[top_indices][[\"Movie Name\", \"Storyline\"]]\n",
    "\n",
    "input_storyline = \"A young hero must fight against dark forces to save the world\"\n",
    "recommendations = recommend_movies(input_storyline, top_n=5)\n",
    "\n",
    "print(\"🎬 Recommended Movies:\")\n",
    "print(recommendations)\n"
   ]
  },
  {
   "cell_type": "code",
   "execution_count": null,
   "id": "03bcee91",
   "metadata": {},
   "outputs": [],
   "source": []
  }
 ],
 "metadata": {
  "kernelspec": {
   "display_name": ".venv",
   "language": "python",
   "name": "python3"
  },
  "language_info": {
   "codemirror_mode": {
    "name": "ipython",
    "version": 3
   },
   "file_extension": ".py",
   "mimetype": "text/x-python",
   "name": "python",
   "nbconvert_exporter": "python",
   "pygments_lexer": "ipython3",
   "version": "3.12.10"
  }
 },
 "nbformat": 4,
 "nbformat_minor": 5
}
